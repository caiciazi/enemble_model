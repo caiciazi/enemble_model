{
 "cells": [
  {
   "cell_type": "markdown",
   "id": "e994999d",
   "metadata": {},
   "source": [
    "# 这是我的第一个集成模型"
   ]
  },
  {
   "cell_type": "markdown",
   "id": "38a927c1",
   "metadata": {},
   "source": [
    "简单起见，我们使用小的数据集和两个小的模型集成"
   ]
  },
  {
   "cell_type": "markdown",
   "id": "fa934787",
   "metadata": {},
   "source": [
    "## 导入需要的包"
   ]
  },
  {
   "cell_type": "code",
   "execution_count": 1,
   "id": "87eac0b2",
   "metadata": {},
   "outputs": [],
   "source": [
    "import tensorflow as tf\n",
    "import pathlib\n",
    "import random"
   ]
  },
  {
   "cell_type": "markdown",
   "id": "d0f94c63",
   "metadata": {},
   "source": [
    "使用pathlib.Path来获取图片的地址"
   ]
  },
  {
   "cell_type": "code",
   "execution_count": 2,
   "id": "df53643b",
   "metadata": {},
   "outputs": [
    {
     "data": {
      "text/plain": [
       "['C:\\\\Users\\\\Administrator\\\\Desktop\\\\flower_photos\\\\tulips\\\\6989946990_62c639ff16_n.jpg',\n",
       " 'C:\\\\Users\\\\Administrator\\\\Desktop\\\\flower_photos\\\\tulips\\\\130684941_d1abfa3be6_m.jpg',\n",
       " 'C:\\\\Users\\\\Administrator\\\\Desktop\\\\flower_photos\\\\daisy\\\\4657354814_f368762c53_m.jpg',\n",
       " 'C:\\\\Users\\\\Administrator\\\\Desktop\\\\flower_photos\\\\tulips\\\\113960470_38fab8f2fb_m.jpg',\n",
       " 'C:\\\\Users\\\\Administrator\\\\Desktop\\\\flower_photos\\\\roses\\\\3171577977_8608282f04_m.jpg']"
      ]
     },
     "execution_count": 2,
     "metadata": {},
     "output_type": "execute_result"
    }
   ],
   "source": [
    "data_root_orig = r'C:\\Users\\Administrator\\Desktop\\flower_photos'\n",
    "data_root = pathlib.Path(data_root_orig)\n",
    "\n",
    "\n",
    "\n",
    "all_image_paths = list(data_root.glob('*/*.jpg'))\n",
    "all_image_paths = [str(path) for path in all_image_paths]\n",
    "random.shuffle(all_image_paths)\n",
    "all_image_paths[:5]"
   ]
  },
  {
   "cell_type": "markdown",
   "id": "a9fddbd6",
   "metadata": {},
   "source": [
    "在获取图片的标签名字"
   ]
  },
  {
   "cell_type": "code",
   "execution_count": 3,
   "id": "00c3ccf7",
   "metadata": {},
   "outputs": [
    {
     "data": {
      "text/plain": [
       "['daisy', 'dandelion', 'roses', 'sunflowers', 'tulips']"
      ]
     },
     "execution_count": 3,
     "metadata": {},
     "output_type": "execute_result"
    }
   ],
   "source": [
    "label_names = sorted(item.name for item in data_root.glob('*/') if item.is_dir())\n",
    "label_names.remove('.ipynb_checkpoints')\n",
    "label_names"
   ]
  },
  {
   "cell_type": "markdown",
   "id": "2140244f",
   "metadata": {},
   "source": [
    "再将标签名字，生成字典label_to_index"
   ]
  },
  {
   "cell_type": "code",
   "execution_count": 4,
   "id": "ff4fc3fc",
   "metadata": {},
   "outputs": [
    {
     "data": {
      "text/plain": [
       "{'daisy': 0, 'dandelion': 1, 'roses': 2, 'sunflowers': 3, 'tulips': 4}"
      ]
     },
     "execution_count": 4,
     "metadata": {},
     "output_type": "execute_result"
    }
   ],
   "source": [
    "label_to_index = dict((name, index) for index, name in enumerate(label_names))\n",
    "label_to_index"
   ]
  },
  {
   "cell_type": "markdown",
   "id": "b5ed8256",
   "metadata": {},
   "source": [
    "将图片对应的路径映射成标签"
   ]
  },
  {
   "cell_type": "code",
   "execution_count": 5,
   "id": "52d7c0dc",
   "metadata": {},
   "outputs": [
    {
     "name": "stdout",
     "output_type": "stream",
     "text": [
      "First 10 labels indices:  [4, 4, 0, 4, 2, 3, 2, 0, 3, 1]\n"
     ]
    }
   ],
   "source": [
    "all_image_labels = [label_to_index.get(pathlib.Path(path).parent.name)\n",
    "                    for path in all_image_paths]\n",
    "\n",
    "print(\"First 10 labels indices: \", all_image_labels[:10])"
   ]
  },
  {
   "cell_type": "markdown",
   "id": "9961139a",
   "metadata": {},
   "source": [
    "看一下样本的数量"
   ]
  },
  {
   "cell_type": "code",
   "execution_count": 6,
   "id": "7d688658",
   "metadata": {},
   "outputs": [],
   "source": [
    "length = len(all_image_labels)"
   ]
  },
  {
   "cell_type": "markdown",
   "id": "4aa65b93",
   "metadata": {},
   "source": [
    "将数据分成两份，训练数据与验证数据"
   ]
  },
  {
   "cell_type": "code",
   "execution_count": 7,
   "id": "70a8ee57",
   "metadata": {},
   "outputs": [],
   "source": [
    "index = tf.range(length)\n",
    "index = tf.random.shuffle(index)\n",
    "train_image_paths = tf.gather(all_image_paths, index[:3000])\n",
    "train_image_labels = tf.gather(all_image_labels, index[:3000])\n",
    "test_image_paths = tf.gather(all_image_paths, index[3000:])\n",
    "test_image_labels = tf.gather(all_image_labels, index[3000:])"
   ]
  },
  {
   "cell_type": "markdown",
   "id": "e584f8e6",
   "metadata": {},
   "source": [
    "## 建立数据集"
   ]
  },
  {
   "cell_type": "markdown",
   "id": "e670c5cc",
   "metadata": {},
   "source": [
    "掉用tf.data.Dataset.from_tensor_slices命令，创建train_ds和test_ds"
   ]
  },
  {
   "cell_type": "code",
   "execution_count": 8,
   "id": "5a6890ef",
   "metadata": {},
   "outputs": [
    {
     "name": "stdout",
     "output_type": "stream",
     "text": [
      "<TensorSliceDataset shapes: ((), ()), types: (tf.string, tf.int32)>\n",
      "<TensorSliceDataset shapes: ((), ()), types: (tf.string, tf.int32)>\n"
     ]
    }
   ],
   "source": [
    "train_ds = tf.data.Dataset.from_tensor_slices((train_image_paths, train_image_labels))\n",
    "test_ds = tf.data.Dataset.from_tensor_slices((test_image_paths, test_image_labels))\n",
    "print(train_ds)\n",
    "print(test_ds)"
   ]
  },
  {
   "cell_type": "markdown",
   "id": "7ddb3a19",
   "metadata": {},
   "source": [
    "写一个预处理函数，将x（路径）映射成Tensor，"
   ]
  },
  {
   "cell_type": "code",
   "execution_count": 9,
   "id": "82135b3f",
   "metadata": {},
   "outputs": [],
   "source": [
    "def preprocessing(x, y):\n",
    "    x = tf.io.read_file(x)# img_raw\n",
    "    x = tf.image.decode_jpeg(x, channels=3)\n",
    "    x = tf.image.resize(x, [128, 128])\n",
    "    x = (x / 255.0) * 2 - 1  # normalize to [-1,1] range\n",
    "    x = tf.cast(x, dtype=tf.float32)\n",
    "    \n",
    "    y = tf.cast(y, dtype=tf.int32)\n",
    "    return x, y"
   ]
  },
  {
   "cell_type": "markdown",
   "id": "a7e53203",
   "metadata": {},
   "source": [
    "将数据集的小批量大小设置好"
   ]
  },
  {
   "cell_type": "code",
   "execution_count": 10,
   "id": "9ac92cf2",
   "metadata": {
    "scrolled": true
   },
   "outputs": [
    {
     "name": "stdout",
     "output_type": "stream",
     "text": [
      "<BatchDataset shapes: ((128, 128, 128, 3), (128,)), types: (tf.float32, tf.int32)>\n"
     ]
    },
    {
     "data": {
      "text/plain": [
       "<BatchDataset shapes: ((128, 128, 128, 3), (128,)), types: (tf.float32, tf.int32)>"
      ]
     },
     "execution_count": 10,
     "metadata": {},
     "output_type": "execute_result"
    }
   ],
   "source": [
    "batch_size = 128\n",
    "train_ds = train_ds.map(preprocessing).batch(batch_size,drop_remainder=True)\n",
    "test_ds = test_ds.map(preprocessing).batch(batch_size,drop_remainder=True)\n",
    "print(train_ds)\n",
    "test_ds"
   ]
  },
  {
   "cell_type": "markdown",
   "id": "65a0ab0f",
   "metadata": {},
   "source": [
    "## 定义模型"
   ]
  },
  {
   "cell_type": "markdown",
   "id": "5427e93c",
   "metadata": {},
   "source": [
    "简单的两个模型集成的模型"
   ]
  },
  {
   "cell_type": "code",
   "execution_count": 11,
   "id": "6bc67b19",
   "metadata": {},
   "outputs": [],
   "source": [
    "class MyModel(tf.keras.Model):\n",
    "    def __init__(self):\n",
    "        super(MyModel, self).__init__()\n",
    "        self.conv1 = tf.keras.layers.Conv2D(32, 3, activation='relu',)\n",
    "        self.drop1 = tf.keras.layers.Dropout(0.8)\n",
    "        self.flatten = tf.keras.layers.Flatten()\n",
    "        self.d1 = tf.keras.layers.Dense(128, activation='relu')\n",
    "        self.drop2 = tf.keras.layers.Dropout(0.8)\n",
    "        self.d2 = tf.keras.layers.Dense(5)\n",
    "        \n",
    "        self.flatten_2 = tf.keras.layers.Flatten()\n",
    "        self.d1_2 = tf.keras.layers.Dense(128*4, activation='relu')\n",
    "        self.drop1_2 = tf.keras.layers.Dropout(0.8)\n",
    "        self.d2_2 = tf.keras.layers.Dense(128, activation='relu')\n",
    "        self.drop2_2 = tf.keras.layers.Dropout(0.8)\n",
    "        self.d3_2 = tf.keras.layers.Dense(5)\n",
    "\n",
    "    def call(self, x, training=None):\n",
    "        x_1 = self.conv1(x)\n",
    "        x_1 = self.drop1(x_1, training=training)\n",
    "        x_1 = self.flatten(x_1)\n",
    "        x_1 = self.d1(x_1)\n",
    "        x_1 = self.drop2(x_1, training=training)\n",
    "        logit_1 = self.d2(x_1)\n",
    "        \n",
    "        x_2 = self.flatten_2(x)\n",
    "        x_2 = self.d1_2(x_2)\n",
    "        x_2 = self.drop1_2(x_2, training=training)\n",
    "        x_2 = self.d2_2(x_2)\n",
    "        x_2 = self.drop2_2(x_2, training=training)\n",
    "        logit_2 = self.d3_2(x_2)\n",
    "        \n",
    "        logit = tf.add(logit_1, logit_2) / 2\n",
    "        return logit\n",
    "\n",
    "# Create an instance of the model\n",
    "model = MyModel()"
   ]
  },
  {
   "cell_type": "markdown",
   "id": "b17b850c",
   "metadata": {},
   "source": [
    "# 定义损失函数和优化器"
   ]
  },
  {
   "cell_type": "markdown",
   "id": "89e97cd9",
   "metadata": {},
   "source": [
    "y_pred为N维向量（N为类别的个数），label为单个数字，如果label也是one-hot之后的值，需要使用CategoricalCrossentropy损失函数。"
   ]
  },
  {
   "cell_type": "code",
   "execution_count": 12,
   "id": "209c3a87",
   "metadata": {},
   "outputs": [],
   "source": [
    "loss_object = tf.keras.losses.SparseCategoricalCrossentropy(from_logits=True)\n",
    "\n",
    "optimizer = tf.keras.optimizers.Adam()"
   ]
  },
  {
   "cell_type": "markdown",
   "id": "dcfaca35",
   "metadata": {},
   "source": [
    "下面是评估的指标的定义"
   ]
  },
  {
   "cell_type": "code",
   "execution_count": 13,
   "id": "1f45b180",
   "metadata": {},
   "outputs": [],
   "source": [
    "train_loss = tf.keras.metrics.Mean(name='train_loss')\n",
    "train_accuracy = tf.keras.metrics.SparseCategoricalAccuracy(name='train_accuracy')\n",
    "\n",
    "test_loss = tf.keras.metrics.Mean(name='test_loss')\n",
    "test_accuracy = tf.keras.metrics.SparseCategoricalAccuracy(name='test_accuracy')"
   ]
  },
  {
   "cell_type": "markdown",
   "id": "8a7ce3ea",
   "metadata": {},
   "source": [
    "训练步函数的定义，使用@tf.function装饰器，将之转换成图，以便加速"
   ]
  },
  {
   "cell_type": "code",
   "execution_count": 14,
   "id": "96cefaa4",
   "metadata": {},
   "outputs": [],
   "source": [
    "@tf.function\n",
    "def train_step(images, labels):\n",
    "    with tf.GradientTape() as tape:\n",
    "    # training=True is only needed if there are layers with different\n",
    "    # behavior during training versus inference (e.g. Dropout).\n",
    "        predictions = model(images, training=True)\n",
    "        \n",
    "        loss = loss_object(labels, predictions)\n",
    "    gradients = tape.gradient(loss, model.trainable_variables)\n",
    "    optimizer.apply_gradients(zip(gradients, model.trainable_variables))\n",
    "\n",
    "    train_loss(loss)\n",
    "    train_accuracy(labels, predictions)"
   ]
  },
  {
   "cell_type": "markdown",
   "id": "2ef7ebd7",
   "metadata": {},
   "source": [
    "同样的定义验证步函数"
   ]
  },
  {
   "cell_type": "code",
   "execution_count": 15,
   "id": "fa32a901",
   "metadata": {},
   "outputs": [],
   "source": [
    "@tf.function\n",
    "def test_step(images, labels):\n",
    "  # training=False is only needed if there are layers with different\n",
    "  # behavior during training versus inference (e.g. Dropout).\n",
    "    predictions = model(images, training=False)\n",
    "    \n",
    "    t_loss = loss_object(labels, predictions)\n",
    "\n",
    "    test_loss(t_loss)\n",
    "    test_accuracy(labels, predictions)"
   ]
  },
  {
   "cell_type": "markdown",
   "id": "e1668d88",
   "metadata": {},
   "source": [
    "## 训练模型"
   ]
  },
  {
   "cell_type": "code",
   "execution_count": 16,
   "id": "15d43feb",
   "metadata": {},
   "outputs": [
    {
     "name": "stdout",
     "output_type": "stream",
     "text": [
      "Epoch 1, Loss: 23.672330856323242, Accuracy: 25.169837951660156, Test Loss: 2.731343984603882, Test Accuracy: 46.09375\n",
      "Epoch 2, Loss: 10.782574653625488, Accuracy: 26.936140060424805, Test Loss: 2.114260673522949, Test Accuracy: 44.0625\n",
      "Epoch 3, Loss: 7.077371120452881, Accuracy: 28.770381927490234, Test Loss: 1.5728152990341187, Test Accuracy: 42.1875\n",
      "Epoch 4, Loss: 5.978082180023193, Accuracy: 28.804346084594727, Test Loss: 1.5461289882659912, Test Accuracy: 48.75\n",
      "Epoch 5, Loss: 4.393439769744873, Accuracy: 31.589675903320312, Test Loss: 1.3460538387298584, Test Accuracy: 52.65625\n",
      "Epoch 6, Loss: 3.693207025527954, Accuracy: 33.22010803222656, Test Loss: 1.339282751083374, Test Accuracy: 48.90625\n",
      "Epoch 7, Loss: 3.036271572113037, Accuracy: 30.944293975830078, Test Loss: 1.294676423072815, Test Accuracy: 53.281246185302734\n",
      "Epoch 8, Loss: 2.6416122913360596, Accuracy: 34.00135803222656, Test Loss: 1.2876040935516357, Test Accuracy: 50.625003814697266\n",
      "Epoch 9, Loss: 2.520601511001587, Accuracy: 35.020381927490234, Test Loss: 1.2540240287780762, Test Accuracy: 51.875\n",
      "Epoch 10, Loss: 2.3898544311523438, Accuracy: 35.020381927490234, Test Loss: 1.174573302268982, Test Accuracy: 55.46875\n",
      "Epoch 11, Loss: 2.104008436203003, Accuracy: 37.7717399597168, Test Loss: 1.2096394300460815, Test Accuracy: 52.03125\n",
      "Epoch 12, Loss: 2.013587713241577, Accuracy: 36.582881927490234, Test Loss: 1.1497851610183716, Test Accuracy: 56.875003814697266\n",
      "Epoch 13, Loss: 1.8086345195770264, Accuracy: 38.994564056396484, Test Loss: 1.124546766281128, Test Accuracy: 55.312503814697266\n",
      "Epoch 14, Loss: 1.889617919921875, Accuracy: 39.47010803222656, Test Loss: 1.129229187965393, Test Accuracy: 54.531253814697266\n",
      "Epoch 15, Loss: 1.807814359664917, Accuracy: 42.08559799194336, Test Loss: 1.1145693063735962, Test Accuracy: 55.15625\n",
      "Epoch 16, Loss: 1.723737120628357, Accuracy: 41.9157600402832, Test Loss: 1.0937016010284424, Test Accuracy: 59.375\n",
      "Epoch 17, Loss: 1.649124264717102, Accuracy: 44.667118072509766, Test Loss: 1.1021963357925415, Test Accuracy: 59.0625\n",
      "Epoch 18, Loss: 1.6168856620788574, Accuracy: 44.73505401611328, Test Loss: 1.1079788208007812, Test Accuracy: 59.218753814697266\n",
      "Epoch 19, Loss: 1.5534783601760864, Accuracy: 45.0407600402832, Test Loss: 1.1042693853378296, Test Accuracy: 58.437503814697266\n",
      "Epoch 20, Loss: 1.415390968322754, Accuracy: 45.8220100402832, Test Loss: 1.09121835231781, Test Accuracy: 59.0625\n",
      "Epoch 21, Loss: 1.4102736711502075, Accuracy: 46.3654899597168, Test Loss: 1.0734319686889648, Test Accuracy: 56.71875\n",
      "Epoch 22, Loss: 1.371783971786499, Accuracy: 48.13179397583008, Test Loss: 1.068362832069397, Test Accuracy: 58.749996185302734\n",
      "Epoch 23, Loss: 1.3475507497787476, Accuracy: 47.65625, Test Loss: 1.0764129161834717, Test Accuracy: 59.531246185302734\n",
      "Epoch 24, Loss: 1.3577821254730225, Accuracy: 49.048912048339844, Test Loss: 1.0662832260131836, Test Accuracy: 57.8125\n",
      "Epoch 25, Loss: 1.244246006011963, Accuracy: 50.0, Test Loss: 1.0869741439819336, Test Accuracy: 55.9375\n",
      "Epoch 26, Loss: 1.2353652715682983, Accuracy: 48.91304397583008, Test Loss: 1.0320619344711304, Test Accuracy: 59.531246185302734\n",
      "Epoch 27, Loss: 1.2092220783233643, Accuracy: 49.830162048339844, Test Loss: 1.072693943977356, Test Accuracy: 57.03125\n",
      "Epoch 28, Loss: 1.267575979232788, Accuracy: 50.78125, Test Loss: 1.0433921813964844, Test Accuracy: 58.749996185302734\n",
      "Epoch 29, Loss: 1.2014423608779907, Accuracy: 52.887229919433594, Test Loss: 1.0421017408370972, Test Accuracy: 58.125\n",
      "Epoch 30, Loss: 1.1618015766143799, Accuracy: 53.362770080566406, Test Loss: 1.0419540405273438, Test Accuracy: 58.28125\n",
      "Epoch 31, Loss: 1.1396152973175049, Accuracy: 52.479618072509766, Test Loss: 1.0418806076049805, Test Accuracy: 58.437503814697266\n",
      "Epoch 32, Loss: 1.127147912979126, Accuracy: 54.619564056396484, Test Loss: 1.049203634262085, Test Accuracy: 56.875003814697266\n",
      "Epoch 33, Loss: 1.106709361076355, Accuracy: 54.857337951660156, Test Loss: 1.0449475049972534, Test Accuracy: 60.15625\n",
      "Epoch 34, Loss: 1.1022961139678955, Accuracy: 54.925270080566406, Test Loss: 1.038779616355896, Test Accuracy: 59.84375\n",
      "Epoch 35, Loss: 1.0650330781936646, Accuracy: 55.43478012084961, Test Loss: 1.023780107498169, Test Accuracy: 60.46875\n",
      "Epoch 36, Loss: 1.0469611883163452, Accuracy: 56.25, Test Loss: 1.0160002708435059, Test Accuracy: 61.71875\n",
      "Epoch 37, Loss: 1.0103271007537842, Accuracy: 56.45380783081055, Test Loss: 1.020870566368103, Test Accuracy: 62.656246185302734\n",
      "Epoch 38, Loss: 1.016200065612793, Accuracy: 57.914398193359375, Test Loss: 1.0235536098480225, Test Accuracy: 61.562503814697266\n",
      "Epoch 39, Loss: 0.9736086130142212, Accuracy: 58.93342590332031, Test Loss: 1.0260943174362183, Test Accuracy: 62.03125\n",
      "Epoch 40, Loss: 1.0050357580184937, Accuracy: 58.050270080566406, Test Loss: 1.0262315273284912, Test Accuracy: 60.625\n",
      "Epoch 41, Loss: 1.0019726753234863, Accuracy: 58.763587951660156, Test Loss: 1.0314937829971313, Test Accuracy: 61.71875\n",
      "Epoch 42, Loss: 0.9329237937927246, Accuracy: 58.423912048339844, Test Loss: 1.0570882558822632, Test Accuracy: 60.15625\n",
      "Epoch 43, Loss: 0.9631506204605103, Accuracy: 58.661685943603516, Test Loss: 1.0868068933486938, Test Accuracy: 59.84375\n",
      "Epoch 44, Loss: 0.9335209131240845, Accuracy: 60.42798614501953, Test Loss: 1.0439685583114624, Test Accuracy: 62.8125\n",
      "Epoch 45, Loss: 0.9463062882423401, Accuracy: 59.612770080566406, Test Loss: 1.0615531206130981, Test Accuracy: 62.343753814697266\n",
      "Epoch 46, Loss: 0.9084286093711853, Accuracy: 59.476898193359375, Test Loss: 1.071980595588684, Test Accuracy: 62.343753814697266\n",
      "Epoch 47, Loss: 0.8921526074409485, Accuracy: 60.59782409667969, Test Loss: 1.0822927951812744, Test Accuracy: 62.343753814697266\n",
      "Epoch 48, Loss: 0.8844782114028931, Accuracy: 60.49592590332031, Test Loss: 1.0735523700714111, Test Accuracy: 61.093746185302734\n",
      "Epoch 49, Loss: 0.9270955920219421, Accuracy: 60.869564056396484, Test Loss: 1.074304461479187, Test Accuracy: 61.874996185302734\n",
      "Epoch 50, Loss: 0.8891311287879944, Accuracy: 60.9375, Test Loss: 1.082050085067749, Test Accuracy: 60.312496185302734\n"
     ]
    }
   ],
   "source": [
    "EPOCHS = 50\n",
    "history_train_loss = []\n",
    "history_train_accuracy = []\n",
    "history_test_loss = []\n",
    "history_test_accuracy = []\n",
    "for epoch in range(EPOCHS):\n",
    "  # Reset the metrics at the start of the next epoch\n",
    "    train_loss.reset_states()\n",
    "    train_accuracy.reset_states()\n",
    "    test_loss.reset_states()\n",
    "    test_accuracy.reset_states()\n",
    "\n",
    "    for images, labels in train_ds:\n",
    "        train_step(images, labels)\n",
    "\n",
    "    for test_images, test_labels in test_ds:\n",
    "        test_step(test_images, test_labels)\n",
    "    \n",
    "    history_train_loss.append(train_loss.result().numpy())\n",
    "    history_train_accuracy.append(train_accuracy.result().numpy())\n",
    "    history_test_loss.append(test_loss.result().numpy())\n",
    "    history_test_accuracy.append(test_accuracy.result().numpy())\n",
    "    print(\n",
    "      f'Epoch {epoch + 1}, '\n",
    "      f'Loss: {train_loss.result()}, '\n",
    "      f'Accuracy: {train_accuracy.result() * 100}, '\n",
    "      f'Test Loss: {test_loss.result()}, '\n",
    "      f'Test Accuracy: {test_accuracy.result() * 100}'\n",
    "    )"
   ]
  },
  {
   "cell_type": "markdown",
   "id": "a48f4090",
   "metadata": {},
   "source": [
    "## 将训练过程中的评价指标画出来"
   ]
  },
  {
   "cell_type": "markdown",
   "id": "81dd0ffa",
   "metadata": {},
   "source": [
    "简单定义一个画图的函数"
   ]
  },
  {
   "cell_type": "code",
   "execution_count": 17,
   "id": "9d9268dc",
   "metadata": {},
   "outputs": [],
   "source": [
    "import matplotlib.pyplot as plt\n",
    "def plot_graph(x,y):\n",
    "    plt.plot(x)\n",
    "    plt.plot(y)\n",
    "    plt.show()"
   ]
  },
  {
   "cell_type": "markdown",
   "id": "8255df32",
   "metadata": {},
   "source": [
    "将训练与验证损失的曲线画出"
   ]
  },
  {
   "cell_type": "code",
   "execution_count": 18,
   "id": "072fd499",
   "metadata": {},
   "outputs": [
    {
     "data": {
      "image/png": "[encoded data removed]",
      "text/plain": [
       "<Figure size 432x288 with 1 Axes>"
      ]
     },
     "metadata": {
      "needs_background": "light"
     },
     "output_type": "display_data"
    }
   ],
   "source": [
    "plot_graph(history_train_loss,history_test_loss)"
   ]
  },
  {
   "cell_type": "markdown",
   "id": "e4b6b280",
   "metadata": {},
   "source": [
    "将训练与验证正确率的曲线画出来"
   ]
  },
  {
   "cell_type": "code",
   "execution_count": 19,
   "id": "081caff5",
   "metadata": {},
   "outputs": [
    {
     "data": {
      "image/png": "[encoded data removed]",
      "text/plain": [
       "<Figure size 432x288 with 1 Axes>"
      ]
     },
     "metadata": {
      "needs_background": "light"
     },
     "output_type": "display_data"
    }
   ],
   "source": [
    "plot_graph(history_train_accuracy, history_test_accuracy)"
   ]
  },
  {
   "cell_type": "code",
   "execution_count": null,
   "id": "b66b0229",
   "metadata": {},
   "outputs": [],
   "source": []
  }
 ],
 "metadata": {
  "kernelspec": {
   "display_name": "Python 3 (ipykernel)",
   "language": "python",
   "name": "python3"
  },
  "language_info": {
   "codemirror_mode": {
    "name": "ipython",
    "version": 3
   },
   "file_extension": ".py",
   "mimetype": "text/x-python",
   "name": "python",
   "nbconvert_exporter": "python",
   "pygments_lexer": "ipython3",
   "version": "3.8.12"
  }
 },
 "nbformat": 4,
 "nbformat_minor": 5
}
